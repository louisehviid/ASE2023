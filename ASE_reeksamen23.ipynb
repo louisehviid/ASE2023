{
  "nbformat": 4,
  "nbformat_minor": 0,
  "metadata": {
    "colab": {
      "provenance": [],
      "include_colab_link": true
    },
    "kernelspec": {
      "name": "python3",
      "display_name": "Python 3"
    },
    "language_info": {
      "name": "python"
    }
  },
  "cells": [
    {
      "cell_type": "markdown",
      "metadata": {
        "id": "view-in-github",
        "colab_type": "text"
      },
      "source": [
        "<a href=\"https://colab.research.google.com/github/louisehviid/ASE2023/blob/main/ASE_reeksamen23.ipynb\" target=\"_parent\"><img src=\"https://colab.research.google.com/assets/colab-badge.svg\" alt=\"Open In Colab\"/></a>"
      ]
    },
    {
      "cell_type": "markdown",
      "source": [
        "**Navn:**\n",
        "\n",
        "**Studienummer:** "
      ],
      "metadata": {
        "id": "4ATGR3kK85vF"
      }
    },
    {
      "cell_type": "markdown",
      "source": [
        "Dette er en colab fil, som du kan bruge til reeksamen i anvendt statistik på HA Erhvervsøkonomi fredag d. 12. maj, 2023. Husk at gemme filen undervejs, og vedhæft den som bilag til din besvarelse.\n",
        "\n",
        "Held og lykke."
      ],
      "metadata": {
        "id": "m55vTwfN9MvM"
      }
    },
    {
      "cell_type": "code",
      "execution_count": 8,
      "metadata": {
        "id": "Z0iFG_ef8uRX"
      },
      "outputs": [],
      "source": [
        "# Husk at installere pakkerne, som du skal bruge\n",
        "import pandas as pd\n",
        "import numpy as np\n",
        "import matplotlib.pyplot as plt"
      ]
    },
    {
      "cell_type": "code",
      "source": [
        "# Indlæs dataset fra github\n",
        "\n",
        "data = pd.read_excel('https://raw.githubusercontent.com/louisehviid/ASE2023/main/Data/data_reeksamen23.xlsx')\n",
        "     \n"
      ],
      "metadata": {
        "id": "abdRBLGA-ycl"
      },
      "execution_count": 9,
      "outputs": []
    },
    {
      "cell_type": "code",
      "source": [
        "#Check at datasættet er tilgængeligt\n",
        "print(data.shape)\n",
        "data.head()"
      ],
      "metadata": {
        "id": "9AW2ZcVbSRUj"
      },
      "execution_count": null,
      "outputs": []
    }
  ]
}